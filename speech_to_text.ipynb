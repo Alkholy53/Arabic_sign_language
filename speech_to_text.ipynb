{
  "cells": [
    {
      "cell_type": "code",
      "execution_count": null,
      "metadata": {
        "colab": {
          "base_uri": "https://localhost:8080/"
        },
        "id": "dey2vFAUMvyI",
        "outputId": "85156ee0-db84-458a-d805-f646639d3b90"
      },
      "outputs": [],
      "source": [
        "#%pip install transformers\n",
        "#%pip install torchaudio\n",
        "#%pip install sounddevice scipy\n",
        "#%pip install soundfile\n",
        "#%pip install pyserial"
      ]
    },
    {
      "cell_type": "code",
      "execution_count": null,
      "metadata": {
        "colab": {
          "base_uri": "https://localhost:8080/"
        },
        "id": "QBNQYRxGMufG",
        "outputId": "302caa58-dab6-4dba-8a21-d936a2e3c48d"
      },
      "outputs": [],
      "source": [
        "from transformers import (Wav2Vec2Processor, Wav2Vec2ForCTC)  \n",
        "import torchaudio  \n",
        "import torch \n",
        "\n",
        "# Function to convert speech file to array\n",
        "def speech_file_to_array_fn(voice_path, resampling_to=16000):\n",
        "    # Load the audio file and get the waveform and sampling rate\n",
        "    speech_array, sampling_rate = torchaudio.load(voice_path)\n",
        "    \n",
        "    # Initialize a resampling transform to resample audio if needed\n",
        "    resampler = torchaudio.transforms.Resample(sampling_rate, resampling_to)\n",
        "\n",
        "    # Resample the audio and convert to a NumPy array\n",
        "    return resampler(speech_array)[0].numpy(), sampling_rate\n",
        "\n",
        "# Define the pre-trained model checkpoint or identifier\n",
        "cp = \"bakrianoo/sinai-voice-ar-stt\"\n",
        "\n",
        "# Initialize Wav2Vec2 processor and model using the pre-trained checkpoint\n",
        "processor = Wav2Vec2Processor.from_pretrained(cp)\n",
        "model = Wav2Vec2ForCTC.from_pretrained(cp)"
      ]
    },
    {
      "cell_type": "code",
      "execution_count": null,
      "metadata": {},
      "outputs": [],
      "source": [
        "import time\n",
        "import sounddevice as sd\n",
        "import torchaudio\n",
        "import serial\n",
        "from scipy.io.wavfile import write\n",
        "\n",
        "def record_audio(duration=5, filename=\"output.wav\", sample_rate=44100):\n",
        "    print(\"Recording...\")\n",
        "    recording = sd.rec(int(duration * sample_rate), samplerate=sample_rate, channels=2)\n",
        "    sd.wait()\n",
        "    print(\"Recording finished\")\n",
        "    write(filename, sample_rate, recording)\n",
        "\n",
        "\n",
        "# Change the duration, filename, and sample rate as needed\n",
        "record_duration = 3  # in seconds\n",
        "output_filename = \"my_recording.wav\"\n",
        "sample_rate = 44100  # 44100 is a common sample rate\n",
        "\n",
        "record_audio(duration=record_duration, filename=output_filename, sample_rate=sample_rate)\n",
        "\n",
        "sound_path = 'my_recording.wav'\n",
        "\n",
        "sample, sr = speech_file_to_array_fn(sound_path)\n",
        "inputs = processor([sample], sampling_rate=16_000, return_tensors=\"pt\", padding=True)\n",
        "with torch.no_grad():\n",
        "    logits = model(inputs.input_values).logits\n",
        "\n",
        "predicted_ids = torch.argmax(logits, dim=-1)\n",
        "\n",
        "transcription_string = processor.batch_decode(predicted_ids)[0]  # Get the transcription as a string\n",
        "\n",
        "print(\"Prediction:\", transcription_string)\n",
        "\n",
        "# Now 'transcription_string' contains the transcription as a string\n",
        "\n",
        "arduino_port = 'COM8'\n",
        "baud_rate = 9600\n",
        "\n",
        "ser = serial.Serial(arduino_port, baud_rate)\n",
        "time.sleep(2)\n",
        "\n",
        "command = transcription_string\n",
        "ser.write(command.encode('utf-8') + b'\\n')\n",
        "print(f\"Sent '{command}' command to Arduino\")\n",
        "\n",
        "# Close the serial connection\n",
        "ser.close()"
      ]
    }
  ],
  "metadata": {
    "colab": {
      "provenance": []
    },
    "kernelspec": {
      "display_name": "Python 3",
      "name": "python3"
    },
    "language_info": {
      "codemirror_mode": {
        "name": "ipython",
        "version": 3
      },
      "file_extension": ".py",
      "mimetype": "text/x-python",
      "name": "python",
      "nbconvert_exporter": "python",
      "pygments_lexer": "ipython3",
      "version": "3.11.8"
    }
  },
  "nbformat": 4,
  "nbformat_minor": 0
}
